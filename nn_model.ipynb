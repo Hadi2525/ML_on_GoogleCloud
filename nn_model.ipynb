{
 "cells": [
  {
   "cell_type": "markdown",
   "id": "ebb88773",
   "metadata": {
    "slideshow": {
     "slide_type": "slide"
    }
   },
   "source": [
    "#### Deploy a Machine Learning model on Google Cloud Run\n",
    "***\n",
    "1. Build the App and ML model\n",
    "2. Setup Google Cloud\n",
    "3. Install and initialize Google Cloud SDK \n",
    "4. Prepare Dockerfile, requirements.txt, .dockerignore\n",
    "5. Cloud build & Deploy"
   ]
  },
  {
   "cell_type": "markdown",
   "id": "8e2e24f4",
   "metadata": {
    "slideshow": {
     "slide_type": "slide"
    }
   },
   "source": [
    "#### 1. Building a Machine Learning model (neural network) and an app (using flask)\n",
    "- Solve a classification problem to detect hand written digits (MNIST dataset)\n",
    "- Run the ML model in an app\n",
    "- Send a request to the app for prediction"
   ]
  },
  {
   "cell_type": "code",
   "execution_count": 1,
   "id": "baf6f610",
   "metadata": {
    "slideshow": {
     "slide_type": "slide"
    }
   },
   "outputs": [],
   "source": [
    "# To avoid displaying more than 2 messages\n",
    "import os\n",
    "os.environ['TF_CPP_MIN_LOG_LEVEL'] = '2'\n",
    "\n",
    "from tensorflow import keras\n",
    "from flask import Flask, request, jsonify\n",
    "\n",
    "#importing the dataset\n",
    "mnist = keras.datasets.mnist"
   ]
  },
  {
   "cell_type": "code",
   "execution_count": 2,
   "id": "21069d6c",
   "metadata": {
    "slideshow": {
     "slide_type": "slide"
    }
   },
   "outputs": [
    {
     "name": "stdout",
     "output_type": "stream",
     "text": [
      "(60000, 28, 28) (60000,)\n"
     ]
    }
   ],
   "source": [
    "(x_train, y_train), (x_test, y_test) = mnist.load_data()\n",
    "print(x_train.shape, y_train.shape)\n",
    "\n",
    "# Normalize: 0,255 -> 0,1\n",
    "x_train, x_test = x_train / 255.0, x_test / 255.0"
   ]
  },
  {
   "cell_type": "code",
   "execution_count": 4,
   "id": "c95aa583",
   "metadata": {
    "slideshow": {
     "slide_type": "slide"
    }
   },
   "outputs": [],
   "source": [
    "model = keras.models.Sequential([\n",
    "                                keras.layers.Flatten(input_shape=(28,28)),\n",
    "                                keras.layers.Dense(128, activation='relu'),\n",
    "                                keras.layers.Dense(10)\n",
    "                                ])\n",
    "\n",
    "# loss and optimizer\n",
    "loss = keras.losses.SparseCategoricalCrossentropy(from_logits=True)\n",
    "optim = keras.optimizers.Adam(learning_rate=0.001)\n",
    "metrics = ['accuracy']\n",
    "\n",
    "model.compile(loss=loss, optimizer=optim, metrics=metrics)\n"
   ]
  },
  {
   "cell_type": "code",
   "execution_count": 7,
   "id": "7d2f26a2",
   "metadata": {
    "slideshow": {
     "slide_type": "slide"
    }
   },
   "outputs": [
    {
     "name": "stdout",
     "output_type": "stream",
     "text": [
      "Epoch 1/5\n",
      "938/938 - 1s - loss: 0.0173 - accuracy: 0.9951 - 1s/epoch - 2ms/step\n",
      "Epoch 2/5\n",
      "938/938 - 1s - loss: 0.0152 - accuracy: 0.9959 - 1s/epoch - 2ms/step\n",
      "Epoch 3/5\n",
      "938/938 - 1s - loss: 0.0120 - accuracy: 0.9970 - 1s/epoch - 2ms/step\n",
      "Epoch 4/5\n",
      "938/938 - 1s - loss: 0.0111 - accuracy: 0.9969 - 1s/epoch - 2ms/step\n",
      "Epoch 5/5\n",
      "938/938 - 1s - loss: 0.0089 - accuracy: 0.9979 - 1s/epoch - 2ms/step\n",
      "Evaluating the saved model:\n",
      "157/157 [==============================] - 0s 1ms/step - loss: 0.0856 - accuracy: 0.9766\n",
      "current model:  [0.08555935323238373, 0.9765999913215637]\n",
      "157/157 - 0s - loss: 0.0856 - accuracy: 0.9766 - 262ms/epoch - 2ms/step\n",
      "saved model:  [0.08555935323238373, 0.9765999913215637]\n"
     ]
    }
   ],
   "source": [
    "#training\n",
    "batch_size = 64\n",
    "epochs = 5\n",
    "\n",
    "model.fit(x_train, y_train, batch_size=batch_size, epochs=epochs, shuffle=True, verbose=2)\n",
    "\n",
    "model.save('nn.h5')\n",
    "\n",
    "# Evaluate the saved model:\n",
    "print('Evaluating the saved model:')\n",
    "print('current model: ',model.evaluate(x_test, y_test, batch_size=batch_size))\n",
    "new_model = keras.models.load_model('./nn.h5')\n",
    "print('saved model: ',new_model.evaluate(x_test, y_test, batch_size=batch_size, verbose=2))"
   ]
  },
  {
   "cell_type": "code",
   "execution_count": 15,
   "id": "3e5aa411",
   "metadata": {
    "slideshow": {
     "slide_type": "slide"
    }
   },
   "outputs": [],
   "source": [
    "def transform_image(pillow_image):\n",
    "    data = np.asarray(pillow_image)\n",
    "    data = data / 255.0\n",
    "    data = data[np.newaxis, ..., np.newaxis]\n",
    "    # --> [1, x, y, 1]\n",
    "    data = tf.image.resize(data, [28, 28])\n",
    "    return data\n",
    "\n",
    "\n",
    "def predict(x):\n",
    "    predictions = model(x)\n",
    "    predictions = tf.nn.softmax(predictions)\n",
    "    pred0 = predictions[0]\n",
    "    label0 = np.argmax(pred0)\n",
    "    return label0"
   ]
  },
  {
   "cell_type": "code",
   "execution_count": null,
   "id": "e48e02af",
   "metadata": {
    "slideshow": {
     "slide_type": "slide"
    }
   },
   "outputs": [],
   "source": [
    "app = Flask(__name__)\n",
    "\n",
    "@app.route(\"/\", methods=[\"GET\", \"POST\"])\n",
    "def index():\n",
    "    if request.method == \"POST\":\n",
    "        file = request.files.get('file')\n",
    "        if file is None or file.filename == \"\":\n",
    "            return jsonify({\"error\": \"no file\"})\n",
    "\n",
    "        try:\n",
    "            image_bytes = file.read()\n",
    "            pillow_img = Image.open(io.BytesIO(image_bytes)).convert('L')\n",
    "            tensor = transform_image(pillow_img)\n",
    "            prediction = predict(tensor)\n",
    "            data = {\"prediction\": int(prediction)}\n",
    "            return jsonify(data)\n",
    "        except Exception as e:\n",
    "            return jsonify({\"error\": str(e)})\n",
    "\n",
    "    return \"OK\"\n",
    "\n",
    "app.run(debug=True)"
   ]
  },
  {
   "cell_type": "markdown",
   "id": "2752db73",
   "metadata": {
    "slideshow": {
     "slide_type": "slide"
    }
   },
   "source": [
    "#### 2. Setup Google Cloud Platform\n",
    "- Create an account\n",
    "- Create a new project\n",
    "- Set up Google Cloud Run & Google Cloud Build APIs"
   ]
  },
  {
   "cell_type": "markdown",
   "id": "bfb90116",
   "metadata": {
    "slideshow": {
     "slide_type": "slide"
    }
   },
   "source": [
    "#### 3. Install Google Cloud SDK\n",
    "- Install Google Cloud SDK\n",
    "- Set up our Project in Google Cloud SDK"
   ]
  },
  {
   "cell_type": "markdown",
   "id": "51aedbb2",
   "metadata": {
    "slideshow": {
     "slide_type": "slide"
    }
   },
   "source": [
    "#### 4. Create Dockerfile, requirements.txt, .dockerignore\n",
    "- We need a dockerfile for all the commands/instructions to run on the cloud\n",
    "- requirements.txt lists all the required libraries to setup on the cloud\n",
    "- .dockerignore excludes defined files/directories to be uploaded in the image for docker build process"
   ]
  },
  {
   "cell_type": "markdown",
   "id": "3b16d763",
   "metadata": {
    "slideshow": {
     "slide_type": "slide"
    }
   },
   "source": [
    "#### 5. Cloud build & deploy the app/ML model"
   ]
  }
 ],
 "metadata": {
  "celltoolbar": "Slideshow",
  "kernelspec": {
   "display_name": "Python 3 (ipykernel)",
   "language": "python",
   "name": "python3"
  },
  "language_info": {
   "codemirror_mode": {
    "name": "ipython",
    "version": 3
   },
   "file_extension": ".py",
   "mimetype": "text/x-python",
   "name": "python",
   "nbconvert_exporter": "python",
   "pygments_lexer": "ipython3",
   "version": "3.8.13"
  }
 },
 "nbformat": 4,
 "nbformat_minor": 5
}
